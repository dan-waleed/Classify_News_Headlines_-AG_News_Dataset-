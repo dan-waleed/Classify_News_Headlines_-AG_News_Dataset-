{
  "cells": [
    {
      "cell_type": "markdown",
      "metadata": {
        "id": "AS8kxD96adan"
      },
      "source": [
        "\n",
        "# **Step1** : Understand the Problem\n",
        "The goal is to classify news headlines into one of four categories:\n",
        "\n",
        "1-World\n",
        "\n",
        "2-Sports\n",
        "\n",
        "3-Business\n",
        "\n",
        "4-Science/Technology\n",
        "\n",
        "We will use the AG News Dataset, which contains 120,000 training samples and 7,600 test samples. Each sample consists of a headline and a label (0-3)."
      ]
    },
    {
      "cell_type": "markdown",
      "metadata": {
        "id": "bMpm_KkYa2Vb"
      },
      "source": [
        "# Step 2: Load and Explore the Dataset\n",
        "Before diving into modeling, it's important to understand the dataset."
      ]
    },
    {
      "cell_type": "code",
      "execution_count": 8,
      "metadata": {
        "id": "H3SfR8kADs6X"
      },
      "outputs": [],
      "source": [
        "# IMPORT THE LIBRARIES\n",
        "import pandas as pd\n",
        "import numpy as np\n",
        "from sklearn.feature_extraction.text import TfidfVectorizer\n",
        "from sklearn.model_selection import train_test_split\n",
        "from sklearn.preprocessing import LabelEncoder\n",
        "from sklearn.linear_model import LogisticRegression\n",
        "from sklearn.tree import DecisionTreeClassifier\n",
        "from sklearn.ensemble import GradientBoostingClassifier\n",
        "from sklearn.neighbors import KNeighborsClassifier\n",
        "from sklearn.metrics import classification_report\n",
        "import matplotlib.pyplot as plt\n",
        "import seaborn as sns\n",
        "from sklearn.decomposition import TruncatedSVD\n",
        "from sklearn.cluster import KMeans"
      ]
    },
    {
      "cell_type": "code",
      "execution_count": 10,
      "metadata": {
        "colab": {
          "base_uri": "https://localhost:8080/",
          "height": 1000
        },
        "id": "FQavJkn9C6Kq",
        "outputId": "7b765c3e-6157-435e-d3a5-4fb8412c7971"
      },
      "outputs": [
        {
          "name": "stdout",
          "output_type": "stream",
          "text": [
            "Defaulting to user installation because normal site-packages is not writeable\n",
            "Requirement already satisfied: datasets in c:\\users\\إقرأ\\appdata\\roaming\\python\\python311\\site-packages (3.3.0)\n",
            "Requirement already satisfied: filelock in c:\\anaconda\\lib\\site-packages (from datasets) (3.13.1)\n",
            "Requirement already satisfied: numpy>=1.17 in c:\\anaconda\\lib\\site-packages (from datasets) (1.26.4)\n",
            "Requirement already satisfied: pyarrow>=15.0.0 in c:\\users\\إقرأ\\appdata\\roaming\\python\\python311\\site-packages (from datasets) (19.0.0)\n",
            "Requirement already satisfied: dill<0.3.9,>=0.3.0 in c:\\users\\إقرأ\\appdata\\roaming\\python\\python311\\site-packages (from datasets) (0.3.8)\n",
            "Requirement already satisfied: pandas in c:\\anaconda\\lib\\site-packages (from datasets) (2.1.4)\n",
            "Requirement already satisfied: requests>=2.32.2 in c:\\users\\إقرأ\\appdata\\roaming\\python\\python311\\site-packages (from datasets) (2.32.3)\n",
            "Requirement already satisfied: tqdm>=4.66.3 in c:\\users\\إقرأ\\appdata\\roaming\\python\\python311\\site-packages (from datasets) (4.67.1)\n",
            "Requirement already satisfied: xxhash in c:\\users\\إقرأ\\appdata\\roaming\\python\\python311\\site-packages (from datasets) (3.5.0)\n",
            "Requirement already satisfied: multiprocess<0.70.17 in c:\\users\\إقرأ\\appdata\\roaming\\python\\python311\\site-packages (from datasets) (0.70.16)\n",
            "Requirement already satisfied: fsspec<=2024.12.0,>=2023.1.0 in c:\\anaconda\\lib\\site-packages (from fsspec[http]<=2024.12.0,>=2023.1.0->datasets) (2023.10.0)\n",
            "Requirement already satisfied: aiohttp in c:\\anaconda\\lib\\site-packages (from datasets) (3.9.3)\n",
            "Requirement already satisfied: huggingface-hub>=0.24.0 in c:\\users\\إقرأ\\appdata\\roaming\\python\\python311\\site-packages (from datasets) (0.28.1)\n",
            "Requirement already satisfied: packaging in c:\\anaconda\\lib\\site-packages (from datasets) (23.1)\n",
            "Requirement already satisfied: pyyaml>=5.1 in c:\\anaconda\\lib\\site-packages (from datasets) (6.0.1)\n",
            "Requirement already satisfied: aiosignal>=1.1.2 in c:\\anaconda\\lib\\site-packages (from aiohttp->datasets) (1.2.0)\n",
            "Requirement already satisfied: attrs>=17.3.0 in c:\\anaconda\\lib\\site-packages (from aiohttp->datasets) (23.1.0)\n",
            "Requirement already satisfied: frozenlist>=1.1.1 in c:\\anaconda\\lib\\site-packages (from aiohttp->datasets) (1.4.0)\n",
            "Requirement already satisfied: multidict<7.0,>=4.5 in c:\\anaconda\\lib\\site-packages (from aiohttp->datasets) (6.0.4)\n",
            "Requirement already satisfied: yarl<2.0,>=1.0 in c:\\anaconda\\lib\\site-packages (from aiohttp->datasets) (1.9.3)\n",
            "Requirement already satisfied: typing-extensions>=3.7.4.3 in c:\\anaconda\\lib\\site-packages (from huggingface-hub>=0.24.0->datasets) (4.9.0)\n",
            "Requirement already satisfied: charset-normalizer<4,>=2 in c:\\anaconda\\lib\\site-packages (from requests>=2.32.2->datasets) (2.0.4)\n",
            "Requirement already satisfied: idna<4,>=2.5 in c:\\anaconda\\lib\\site-packages (from requests>=2.32.2->datasets) (3.4)\n",
            "Requirement already satisfied: urllib3<3,>=1.21.1 in c:\\anaconda\\lib\\site-packages (from requests>=2.32.2->datasets) (2.0.7)\n",
            "Requirement already satisfied: certifi>=2017.4.17 in c:\\anaconda\\lib\\site-packages (from requests>=2.32.2->datasets) (2024.2.2)\n",
            "Requirement already satisfied: colorama in c:\\anaconda\\lib\\site-packages (from tqdm>=4.66.3->datasets) (0.4.6)\n",
            "Requirement already satisfied: python-dateutil>=2.8.2 in c:\\anaconda\\lib\\site-packages (from pandas->datasets) (2.8.2)\n",
            "Requirement already satisfied: pytz>=2020.1 in c:\\anaconda\\lib\\site-packages (from pandas->datasets) (2023.3.post1)\n",
            "Requirement already satisfied: tzdata>=2022.1 in c:\\anaconda\\lib\\site-packages (from pandas->datasets) (2023.3)\n",
            "Requirement already satisfied: six>=1.5 in c:\\anaconda\\lib\\site-packages (from python-dateutil>=2.8.2->pandas->datasets) (1.16.0)\n",
            "Note: you may need to restart the kernel to use updated packages.\n"
          ]
        }
      ],
      "source": [
        "# Load dataset\n",
        "# Install the datasets package\n",
        "%pip install datasets\n",
        "from datasets import load_dataset\n",
        "\n",
        "\n",
        "# Load the AG News dataset\n",
        "dataset = load_dataset('ag_news')\n",
        "train_data = pd.DataFrame(dataset['train'])\n",
        "test_data = pd.DataFrame(dataset['test'])\n"
      ]
    },
    {
      "cell_type": "code",
      "execution_count": 11,
      "metadata": {},
      "outputs": [
        {
          "name": "stdout",
          "output_type": "stream",
          "text": [
            "Training samples: 120000\n",
            "\n",
            " Test samples: 7600\n",
            "\n",
            "Sample headline: Wall St. Bears Claw Back Into the Black (Reuters) Reuters - Short-sellers, Wall Street's dwindling\\band of ultra-cynics, are seeing green again.\n",
            "\n",
            "Sample label: 2\n",
            "\n",
            " number of null values in the dataset text     0\n",
            "label    0\n",
            "dtype: int64\n",
            "\n",
            " number of null values in the dataset text     0\n",
            "label    0\n",
            "dtype: int64\n"
          ]
        },
        {
          "data": {
            "text/html": [
              "<div>\n",
              "<style scoped>\n",
              "    .dataframe tbody tr th:only-of-type {\n",
              "        vertical-align: middle;\n",
              "    }\n",
              "\n",
              "    .dataframe tbody tr th {\n",
              "        vertical-align: top;\n",
              "    }\n",
              "\n",
              "    .dataframe thead th {\n",
              "        text-align: right;\n",
              "    }\n",
              "</style>\n",
              "<table border=\"1\" class=\"dataframe\">\n",
              "  <thead>\n",
              "    <tr style=\"text-align: right;\">\n",
              "      <th></th>\n",
              "      <th>text</th>\n",
              "      <th>label</th>\n",
              "    </tr>\n",
              "  </thead>\n",
              "  <tbody>\n",
              "    <tr>\n",
              "      <th>0</th>\n",
              "      <td>Wall St. Bears Claw Back Into the Black (Reute...</td>\n",
              "      <td>2</td>\n",
              "    </tr>\n",
              "    <tr>\n",
              "      <th>1</th>\n",
              "      <td>Carlyle Looks Toward Commercial Aerospace (Reu...</td>\n",
              "      <td>2</td>\n",
              "    </tr>\n",
              "    <tr>\n",
              "      <th>2</th>\n",
              "      <td>Oil and Economy Cloud Stocks' Outlook (Reuters...</td>\n",
              "      <td>2</td>\n",
              "    </tr>\n",
              "    <tr>\n",
              "      <th>3</th>\n",
              "      <td>Iraq Halts Oil Exports from Main Southern Pipe...</td>\n",
              "      <td>2</td>\n",
              "    </tr>\n",
              "    <tr>\n",
              "      <th>4</th>\n",
              "      <td>Oil prices soar to all-time record, posing new...</td>\n",
              "      <td>2</td>\n",
              "    </tr>\n",
              "  </tbody>\n",
              "</table>\n",
              "</div>"
            ],
            "text/plain": [
              "                                                text  label\n",
              "0  Wall St. Bears Claw Back Into the Black (Reute...      2\n",
              "1  Carlyle Looks Toward Commercial Aerospace (Reu...      2\n",
              "2  Oil and Economy Cloud Stocks' Outlook (Reuters...      2\n",
              "3  Iraq Halts Oil Exports from Main Southern Pipe...      2\n",
              "4  Oil prices soar to all-time record, posing new...      2"
            ]
          },
          "execution_count": 11,
          "metadata": {},
          "output_type": "execute_result"
        }
      ],
      "source": [
        "# Explore the dataset\n",
        "print(f\"Training samples: {len(train_data)}\")\n",
        "print(f\"\\n Test samples: {len(test_data)}\")\n",
        "print(\"\\nSample headline:\", train_data['text'][0])\n",
        "print(\"\\nSample label:\", train_data['label'][0])\n",
        "print(\"\\n number of null values in the dataset\",train_data.isnull().sum())\n",
        "print(\"\\n number of null values in the dataset\",test_data.isnull().sum())\n",
        "test_data.head()\n",
        "train_data.head()\n"
      ]
    },
    {
      "cell_type": "code",
      "execution_count": 12,
      "metadata": {},
      "outputs": [
        {
          "data": {
            "image/png": "[encoded data removed]",
            "text/plain": [
              "<Figure size 640x480 with 1 Axes>"
            ]
          },
          "metadata": {},
          "output_type": "display_data"
        }
      ],
      "source": [
        "\n",
        "# Check class distribution\n",
        "import matplotlib.pyplot as plt\n",
        "\n",
        "labels = train_data['label'].tolist()\n",
        "plt.hist(labels, bins=4, edgecolor='black')\n",
        "plt.xticks([0, 1, 2, 3], ['World', 'Sports', 'Business', 'Sci/Tech'])\n",
        "plt.title(\"Class Distribution in Training Data\")\n",
        "plt.xlabel(\"Category\")\n",
        "plt.ylabel(\"Count\")\n",
        "plt.show()"
      ]
    },
    {
      "cell_type": "markdown",
      "metadata": {
        "id": "DO76pI2CbXhU"
      },
      "source": [
        " The dataset is **balanced**, with roughly equal samples for each category."
      ]
    },
    {
      "cell_type": "markdown",
      "metadata": {
        "id": "dMw9X7H5bg0c"
      },
      "source": [
        "# **Step 3**: Preprocess the Text\n",
        "Text data cannot be directly fed into machine learning models. We need to convert it into numerical features.\n",
        "\n",
        "3.1 Tokenization\n",
        "Tokenization splits text into individual words or tokens."
      ]
    },
    {
      "cell_type": "code",
      "execution_count": 13,
      "metadata": {
        "colab": {
          "base_uri": "https://localhost:8080/"
        },
        "id": "kB3s9oIqEDuw",
        "outputId": "c75f2a8f-4bd0-42bd-9a3e-4b0b890b416e"
      },
      "outputs": [
        {
          "name": "stdout",
          "output_type": "stream",
          "text": [
            "Tokens: ['headline' 'is' 'sample' 'this']\n"
          ]
        }
      ],
      "source": [
        "from sklearn.feature_extraction.text import CountVectorizer\n",
        "\n",
        "# Example of tokenization\n",
        "sample_text = \"This is a sample headline.\"\n",
        "vectorizer = CountVectorizer()\n",
        "X_sample = vectorizer.fit_transform([sample_text])\n",
        "print(\"Tokens:\", vectorizer.get_feature_names_out())"
      ]
    },
    {
      "cell_type": "markdown",
      "metadata": {
        "id": "Qsr3gf9Ib-bI"
      },
      "source": [
        "3.2 TF-IDF Vectorization\n",
        "TF-IDF (Term Frequency-Inverse Document Frequency) assigns weights to words based on their importance in a document relative to the entire dataset."
      ]
    },
    {
      "cell_type": "code",
      "execution_count": 16,
      "metadata": {
        "id": "a1dPi0QSDZLe"
      },
      "outputs": [],
      "source": [
        "from sklearn.feature_extraction.text import TfidfVectorizer\n",
        "\n",
        "# Initialize TF-IDF vectorizer\n",
        "tfidf = TfidfVectorizer(\n",
        "    stop_words='english',  # Remove common words like \"the\"\n",
        "    max_features=5000,     # Limit vocabulary size for efficiency\n",
        "    lowercase=True         # Convert text to lowercase\n",
        ")\n",
        "\n",
        "# Fit TF-IDF on training data\n",
        "X_train = tfidf.fit_transform(train_data['text'])\n",
        "y_train = train_data['label']\n",
        "\n",
        "# Transform test data\n",
        "X_test = tfidf.transform(test_data['text'])\n",
        "y_test = test_data['label']"
      ]
    },
    {
      "cell_type": "markdown",
      "metadata": {
        "id": "vyumglKDcMLB"
      },
      "source": [
        "# Step 4: Train and Compare Classifiers\n",
        "We will train multiple classifiers and compare their performance."
      ]
    },
    {
      "cell_type": "markdown",
      "metadata": {
        "id": "tCQPrc_FcPvo"
      },
      "source": [
        "# 4.1 Logistic Regression\n",
        "Logistic Regression is a simple and effective model for text classification"
      ]
    },
    {
      "cell_type": "code",
      "execution_count": 35,
      "metadata": {
        "colab": {
          "base_uri": "https://localhost:8080/"
        },
        "id": "7vfB-pJvpTce",
        "outputId": "bce93509-d987-4c0f-aba8-a6ddd240df13"
      },
      "outputs": [
        {
          "name": "stdout",
          "output_type": "stream",
          "text": [
            "Logistic Regression accuracy: 0.9042105263157895\n",
            "Logistic Regression Report:\n",
            "              precision    recall  f1-score   support\n",
            "\n",
            "       World       0.92      0.90      0.91      1900\n",
            "      Sports       0.95      0.97      0.96      1900\n",
            "    Business       0.87      0.87      0.87      1900\n",
            "    Sci/Tech       0.88      0.88      0.88      1900\n",
            "\n",
            "    accuracy                           0.90      7600\n",
            "   macro avg       0.90      0.90      0.90      7600\n",
            "weighted avg       0.90      0.90      0.90      7600\n",
            "\n"
          ]
        }
      ],
      "source": [
        "from sklearn.linear_model import LogisticRegression\n",
        "from sklearn.metrics import classification_report\n",
        "from sklearn.metrics import accuracy_score\n",
        "\n",
        "# Train Logistic Regression\n",
        "model_lr = LogisticRegression(max_iter=1000)\n",
        "model_lr.fit(X_train, y_train)\n",
        "\n",
        "# Evaluate on test data\n",
        "y_pred_lr = model_lr.predict(X_test)\n",
        "accuracy_lr = accuracy_score(y_test, y_pred_lr)\n",
        "print(\"Logistic Regression accuracy:\", accuracy_lr)\n",
        "print(\"Logistic Regression Report:\")\n",
        "print(classification_report(y_test, y_pred_lr, target_names=['World', 'Sports', 'Business', 'Sci/Tech']))"
      ]
    },
    {
      "cell_type": "markdown",
      "metadata": {
        "id": "nut9GBeTdXBC"
      },
      "source": [
        "# 4.2 Decision Tree\n",
        "Decision Trees are interpretable but can overfit on text data."
      ]
    },
    {
      "cell_type": "code",
      "execution_count": 36,
      "metadata": {
        "colab": {
          "base_uri": "https://localhost:8080/"
        },
        "id": "HQHDMfqYrHqs",
        "outputId": "27f80fae-710e-40ef-e9c8-b67b78fdeb74"
      },
      "outputs": [
        {
          "name": "stdout",
          "output_type": "stream",
          "text": [
            "Decision Tree accuracy: 0.45\n",
            "Decision Tree Report:\n",
            "              precision    recall  f1-score   support\n",
            "\n",
            "       World       0.87      0.37      0.52      1900\n",
            "      Sports       0.93      0.27      0.42      1900\n",
            "    Business       0.86      0.19      0.31      1900\n",
            "    Sci/Tech       0.32      0.97      0.48      1900\n",
            "\n",
            "    accuracy                           0.45      7600\n",
            "   macro avg       0.75      0.45      0.43      7600\n",
            "weighted avg       0.75      0.45      0.43      7600\n",
            "\n"
          ]
        }
      ],
      "source": [
        "from sklearn.tree import DecisionTreeClassifier\n",
        "\n",
        "# Train Decision Tree\n",
        "model_dt = DecisionTreeClassifier(max_depth=10)\n",
        "model_dt.fit(X_train, y_train)\n",
        "\n",
        "# Evaluate on test data\n",
        "\n",
        "y_pred_dt = model_dt.predict(X_test)\n",
        "accuracy_decision_tree = model_dt.score(X_test, y_test)\n",
        "print(\"Decision Tree accuracy:\", accuracy_decision_tree)\n",
        "print(\"Decision Tree Report:\")\n",
        "print(classification_report(y_test, y_pred_dt, target_names=['World', 'Sports', 'Business', 'Sci/Tech']))"
      ]
    },
    {
      "cell_type": "markdown",
      "metadata": {
        "id": "VCNf20widj0k"
      },
      "source": [
        "# 4.3 K-Nearest Neighbors (KNN)\n",
        "KNN is simple but computationally expensive for large datasets."
      ]
    },
    {
      "cell_type": "code",
      "execution_count": 37,
      "metadata": {
        "colab": {
          "base_uri": "https://localhost:8080/"
        },
        "id": "DEogvPfGrqk6",
        "outputId": "873d1c3d-06d5-4193-96ea-4356c6cf0633"
      },
      "outputs": [
        {
          "name": "stdout",
          "output_type": "stream",
          "text": [
            "KNN accuracy: 0.8807894736842106\n",
            "KNN Report:\n",
            "              precision    recall  f1-score   support\n",
            "\n",
            "       World       0.86      0.90      0.88      1900\n",
            "      Sports       0.92      0.94      0.93      1900\n",
            "    Business       0.87      0.84      0.85      1900\n",
            "    Sci/Tech       0.87      0.84      0.86      1900\n",
            "\n",
            "    accuracy                           0.88      7600\n",
            "   macro avg       0.88      0.88      0.88      7600\n",
            "weighted avg       0.88      0.88      0.88      7600\n",
            "\n"
          ]
        }
      ],
      "source": [
        "from sklearn.neighbors import KNeighborsClassifier\n",
        "\n",
        "# Train KNN\n",
        "model_knn = KNeighborsClassifier(n_neighbors=3)\n",
        "model_knn.fit(X_train, y_train)\n",
        "\n",
        "# Evaluate on test data\n",
        "y_pred_knn = model_knn.predict(X_test)\n",
        "accuracy_knn = model_knn.score(X_test, y_test)\n",
        "print(\"KNN accuracy:\", accuracy_knn)\n",
        "print(\"KNN Report:\")\n",
        "print(classification_report(y_test, y_pred_knn, target_names=['World', 'Sports', 'Business', 'Sci/Tech']))"
      ]
    },
    {
      "cell_type": "markdown",
      "metadata": {
        "id": "nzaJqFl3dvC_"
      },
      "source": [
        "# 4.4 AdaBoost\n",
        "AdaBoost is an ensemble method that combines weak classifiers."
      ]
    },
    {
      "cell_type": "code",
      "execution_count": 38,
      "metadata": {
        "colab": {
          "base_uri": "https://localhost:8080/"
        },
        "id": "ND3TgLDysGMC",
        "outputId": "7b0b85f9-3cf6-46a2-8c08-8d85ba84a185"
      },
      "outputs": [
        {
          "name": "stdout",
          "output_type": "stream",
          "text": [
            "AdaBoost accuracy: 0.6598684210526315\n",
            "AdaBoost Report:\n",
            "              precision    recall  f1-score   support\n",
            "\n",
            "       World       0.75      0.62      0.68      1900\n",
            "      Sports       0.88      0.70      0.78      1900\n",
            "    Business       0.62      0.55      0.58      1900\n",
            "    Sci/Tech       0.51      0.76      0.61      1900\n",
            "\n",
            "    accuracy                           0.66      7600\n",
            "   macro avg       0.69      0.66      0.67      7600\n",
            "weighted avg       0.69      0.66      0.67      7600\n",
            "\n"
          ]
        }
      ],
      "source": [
        "from sklearn.ensemble import AdaBoostClassifier\n",
        "\n",
        "# Train AdaBoost\n",
        "model_ab = AdaBoostClassifier()\n",
        "model_ab.fit(X_train, y_train)\n",
        "\n",
        "# Evaluate on test data\n",
        "y_pred_ab = model_ab.predict(X_test)\n",
        "accuracy_ab = model_ab.score(X_test, y_test)\n",
        "print(\"AdaBoost accuracy:\", accuracy_ab)\n",
        "print(\"AdaBoost Report:\")\n",
        "print(classification_report(y_test, y_pred_ab, target_names=['World', 'Sports', 'Business', 'Sci/Tech']))"
      ]
    },
    {
      "cell_type": "markdown",
      "metadata": {
        "id": "TfJAiIoRgUzN"
      },
      "source": [
        "# Step 5: Visualize Results for all alogorhim \n",
        "\n",
        "\n"
      ]
    },
    {
      "cell_type": "code",
      "execution_count": 42,
      "metadata": {},
      "outputs": [
        {
          "name": "stdout",
          "output_type": "stream",
          "text": [
            "0.9042105263157895 0.45 0.8807894736842106 0.6598684210526315\n"
          ]
        },
        {
          "data": {
            "image/png": "[encoded data removed]",
            "text/plain": [
              "<Figure size 640x480 with 1 Axes>"
            ]
          },
          "metadata": {},
          "output_type": "display_data"
        }
      ],
      "source": [
        "# visualize the results\n",
        "algorithms = ['Logistic Regression', 'Decision Tree', 'KNN', 'AdaBoost']\n",
        "print(accuracy_lr, accuracy_decision_tree, accuracy_knn, accuracy_ab)\n",
        "accuracies = [accuracy_lr, accuracy_decision_tree, accuracy_knn, accuracy_ab]\n",
        "plt.bar(algorithms, accuracies)\n",
        "plt.ylabel('Accuracy')\n",
        "plt.title('Algorithm Performance')\n",
        "plt.show()\n"
      ]
    },
    {
      "cell_type": "markdown",
      "metadata": {},
      "source": [
        "as we can see here the logistic Regression is the highest one \n",
        "\n",
        "Logistic Regression performs the best due to its ability to handle high-dimensional text data.\n",
        "And the KNN is also have a good performs \n",
        "\n",
        "Decision Trees and AdaBoot struggle with overfitting and computational complexity"
      ]
    }
  ],
  "metadata": {
    "colab": {
      "provenance": []
    },
    "kernelspec": {
      "display_name": "base",
      "language": "python",
      "name": "python3"
    },
    "language_info": {
      "codemirror_mode": {
        "name": "ipython",
        "version": 3
      },
      "file_extension": ".py",
      "mimetype": "text/x-python",
      "name": "python",
      "nbconvert_exporter": "python",
      "pygments_lexer": "ipython3",
      "version": "3.11.7"
    }
  },
  "nbformat": 4,
  "nbformat_minor": 0
}
