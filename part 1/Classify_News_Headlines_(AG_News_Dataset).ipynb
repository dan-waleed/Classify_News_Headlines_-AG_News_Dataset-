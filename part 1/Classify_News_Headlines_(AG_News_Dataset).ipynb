{
  "cells": [
    {
      "cell_type": "markdown",
      "source": [
        "\n",
        "# **Step1** : Understand the Problem\n",
        "The goal is to classify news headlines into one of four categories:\n",
        "\n",
        "1-World\n",
        "\n",
        "2-Sports\n",
        "\n",
        "3-Business\n",
        "\n",
        "4-Science/Technology\n",
        "\n",
        "We will use the AG News Dataset, which contains 120,000 training samples and 7,600 test samples. Each sample consists of a headline and a label (0-3)."
      ],
      "metadata": {
        "id": "AS8kxD96adan"
      }
    },
    {
      "cell_type": "markdown",
      "source": [
        "#Step 2: Load and Explore the Dataset\n",
        "Before diving into modeling, it's important to understand the dataset."
      ],
      "metadata": {
        "id": "bMpm_KkYa2Vb"
      }
    },
    {
      "cell_type": "code",
      "execution_count": 8,
      "metadata": {
        "id": "H3SfR8kADs6X"
      },
      "outputs": [],
      "source": [
        "import pandas as pd\n",
        "import numpy as np\n",
        "from sklearn.feature_extraction.text import TfidfVectorizer\n",
        "from sklearn.model_selection import train_test_split\n",
        "from sklearn.preprocessing import LabelEncoder\n",
        "from sklearn.linear_model import LogisticRegression\n",
        "from sklearn.tree import DecisionTreeClassifier\n",
        "from sklearn.ensemble import GradientBoostingClassifier\n",
        "from sklearn.neighbors import KNeighborsClassifier\n",
        "from sklearn.metrics import classification_report\n",
        "import matplotlib.pyplot as plt\n",
        "import seaborn as sns\n",
        "from sklearn.decomposition import TruncatedSVD\n",
        "from sklearn.cluster import KMeans"
      ]
    },
    {
      "cell_type": "code",
      "execution_count": 9,
      "metadata": {
        "colab": {
          "base_uri": "https://localhost:8080/",
          "height": 1000
        },
        "id": "FQavJkn9C6Kq",
        "outputId": "7b765c3e-6157-435e-d3a5-4fb8412c7971"
      },
      "outputs": [
        {
          "output_type": "stream",
          "name": "stdout",
          "text": [
            "Requirement already satisfied: datasets in /usr/local/lib/python3.11/dist-packages (3.3.1)\n",
            "Requirement already satisfied: filelock in /usr/local/lib/python3.11/dist-packages (from datasets) (3.17.0)\n",
            "Requirement already satisfied: numpy>=1.17 in /usr/local/lib/python3.11/dist-packages (from datasets) (1.26.4)\n",
            "Requirement already satisfied: pyarrow>=15.0.0 in /usr/local/lib/python3.11/dist-packages (from datasets) (17.0.0)\n",
            "Requirement already satisfied: dill<0.3.9,>=0.3.0 in /usr/local/lib/python3.11/dist-packages (from datasets) (0.3.8)\n",
            "Requirement already satisfied: pandas in /usr/local/lib/python3.11/dist-packages (from datasets) (2.2.2)\n",
            "Requirement already satisfied: requests>=2.32.2 in /usr/local/lib/python3.11/dist-packages (from datasets) (2.32.3)\n",
            "Requirement already satisfied: tqdm>=4.66.3 in /usr/local/lib/python3.11/dist-packages (from datasets) (4.67.1)\n",
            "Requirement already satisfied: xxhash in /usr/local/lib/python3.11/dist-packages (from datasets) (3.5.0)\n",
            "Requirement already satisfied: multiprocess<0.70.17 in /usr/local/lib/python3.11/dist-packages (from datasets) (0.70.16)\n",
            "Requirement already satisfied: fsspec<=2024.12.0,>=2023.1.0 in /usr/local/lib/python3.11/dist-packages (from fsspec[http]<=2024.12.0,>=2023.1.0->datasets) (2024.10.0)\n",
            "Requirement already satisfied: aiohttp in /usr/local/lib/python3.11/dist-packages (from datasets) (3.11.12)\n",
            "Requirement already satisfied: huggingface-hub>=0.24.0 in /usr/local/lib/python3.11/dist-packages (from datasets) (0.28.1)\n",
            "Requirement already satisfied: packaging in /usr/local/lib/python3.11/dist-packages (from datasets) (24.2)\n",
            "Requirement already satisfied: pyyaml>=5.1 in /usr/local/lib/python3.11/dist-packages (from datasets) (6.0.2)\n",
            "Requirement already satisfied: aiohappyeyeballs>=2.3.0 in /usr/local/lib/python3.11/dist-packages (from aiohttp->datasets) (2.4.6)\n",
            "Requirement already satisfied: aiosignal>=1.1.2 in /usr/local/lib/python3.11/dist-packages (from aiohttp->datasets) (1.3.2)\n",
            "Requirement already satisfied: attrs>=17.3.0 in /usr/local/lib/python3.11/dist-packages (from aiohttp->datasets) (25.1.0)\n",
            "Requirement already satisfied: frozenlist>=1.1.1 in /usr/local/lib/python3.11/dist-packages (from aiohttp->datasets) (1.5.0)\n",
            "Requirement already satisfied: multidict<7.0,>=4.5 in /usr/local/lib/python3.11/dist-packages (from aiohttp->datasets) (6.1.0)\n",
            "Requirement already satisfied: propcache>=0.2.0 in /usr/local/lib/python3.11/dist-packages (from aiohttp->datasets) (0.2.1)\n",
            "Requirement already satisfied: yarl<2.0,>=1.17.0 in /usr/local/lib/python3.11/dist-packages (from aiohttp->datasets) (1.18.3)\n",
            "Requirement already satisfied: typing-extensions>=3.7.4.3 in /usr/local/lib/python3.11/dist-packages (from huggingface-hub>=0.24.0->datasets) (4.12.2)\n",
            "Requirement already satisfied: charset-normalizer<4,>=2 in /usr/local/lib/python3.11/dist-packages (from requests>=2.32.2->datasets) (3.4.1)\n",
            "Requirement already satisfied: idna<4,>=2.5 in /usr/local/lib/python3.11/dist-packages (from requests>=2.32.2->datasets) (3.10)\n",
            "Requirement already satisfied: urllib3<3,>=1.21.1 in /usr/local/lib/python3.11/dist-packages (from requests>=2.32.2->datasets) (2.3.0)\n",
            "Requirement already satisfied: certifi>=2017.4.17 in /usr/local/lib/python3.11/dist-packages (from requests>=2.32.2->datasets) (2025.1.31)\n",
            "Requirement already satisfied: python-dateutil>=2.8.2 in /usr/local/lib/python3.11/dist-packages (from pandas->datasets) (2.8.2)\n",
            "Requirement already satisfied: pytz>=2020.1 in /usr/local/lib/python3.11/dist-packages (from pandas->datasets) (2025.1)\n",
            "Requirement already satisfied: tzdata>=2022.7 in /usr/local/lib/python3.11/dist-packages (from pandas->datasets) (2025.1)\n",
            "Requirement already satisfied: six>=1.5 in /usr/local/lib/python3.11/dist-packages (from python-dateutil>=2.8.2->pandas->datasets) (1.17.0)\n",
            "Training samples: 120000\n",
            "Test samples: 7600\n",
            "\n",
            "Sample headline: Wall St. Bears Claw Back Into the Black (Reuters) Reuters - Short-sellers, Wall Street's dwindling\\band of ultra-cynics, are seeing green again.\n",
            "Sample label: 2\n"
          ]
        },
        {
          "output_type": "display_data",
          "data": {
            "text/plain": [
              "<Figure size 640x480 with 1 Axes>"
            ],
            "image/png": "[encoded data removed]"
          },
          "metadata": {}
        }
      ],
      "source": [
        "# Load dataset\n",
        "# Install the datasets package\n",
        "%pip install datasets\n",
        "from datasets import load_dataset\n",
        "\n",
        "\n",
        "# Load the AG News dataset\n",
        "dataset = load_dataset('ag_news')\n",
        "train_data = dataset['train']\n",
        "test_data = dataset['test']\n",
        "\n",
        "# Explore the dataset\n",
        "print(f\"Training samples: {len(train_data)}\")\n",
        "print(f\"Test samples: {len(test_data)}\")\n",
        "print(\"\\nSample headline:\", train_data[0]['text'])\n",
        "print(\"Sample label:\", train_data[0]['label'])\n",
        "\n",
        "# Check class distribution\n",
        "import matplotlib.pyplot as plt\n",
        "\n",
        "labels = [train_data[i]['label'] for i in range(len(train_data))]\n",
        "plt.hist(labels, bins=4, edgecolor='black')\n",
        "plt.xticks([0, 1, 2, 3], ['World', 'Sports', 'Business', 'Sci/Tech'])\n",
        "plt.title(\"Class Distribution in Training Data\")\n",
        "plt.xlabel(\"Category\")\n",
        "plt.ylabel(\"Count\")\n",
        "plt.show()"
      ]
    },
    {
      "cell_type": "markdown",
      "source": [
        " The dataset is **balanced**, with roughly equal samples for each category."
      ],
      "metadata": {
        "id": "DO76pI2CbXhU"
      }
    },
    {
      "cell_type": "markdown",
      "source": [
        "#**Step 3**: Preprocess the Text\n",
        "Text data cannot be directly fed into machine learning models. We need to convert it into numerical features.\n",
        "\n",
        "3.1 Tokenization\n",
        "Tokenization splits text into individual words or tokens."
      ],
      "metadata": {
        "id": "dMw9X7H5bg0c"
      }
    },
    {
      "cell_type": "code",
      "source": [
        "from sklearn.feature_extraction.text import CountVectorizer\n",
        "\n",
        "# Example of tokenization\n",
        "sample_text = \"This is a sample headline.\"\n",
        "vectorizer = CountVectorizer()\n",
        "X_sample = vectorizer.fit_transform([sample_text])\n",
        "print(\"Tokens:\", vectorizer.get_feature_names_out())"
      ],
      "metadata": {
        "colab": {
          "base_uri": "https://localhost:8080/"
        },
        "id": "kB3s9oIqEDuw",
        "outputId": "c75f2a8f-4bd0-42bd-9a3e-4b0b890b416e"
      },
      "execution_count": 10,
      "outputs": [
        {
          "output_type": "stream",
          "name": "stdout",
          "text": [
            "Tokens: ['headline' 'is' 'sample' 'this']\n"
          ]
        }
      ]
    },
    {
      "cell_type": "markdown",
      "source": [
        "3.2 TF-IDF Vectorization\n",
        "TF-IDF (Term Frequency-Inverse Document Frequency) assigns weights to words based on their importance in a document relative to the entire dataset."
      ],
      "metadata": {
        "id": "Qsr3gf9Ib-bI"
      }
    },
    {
      "cell_type": "code",
      "execution_count": 11,
      "metadata": {
        "id": "a1dPi0QSDZLe"
      },
      "outputs": [],
      "source": [
        "from sklearn.feature_extraction.text import TfidfVectorizer\n",
        "\n",
        "# Initialize TF-IDF vectorizer\n",
        "tfidf = TfidfVectorizer(\n",
        "    stop_words='english',  # Remove common words like \"the\"\n",
        "    max_features=5000,     # Limit vocabulary size for efficiency\n",
        "    lowercase=True         # Convert text to lowercase\n",
        ")\n",
        "\n",
        "# Fit TF-IDF on training data\n",
        "X_train = tfidf.fit_transform(train_data['text'])\n",
        "y_train = train_data['label']\n",
        "\n",
        "# Transform test data\n",
        "X_test = tfidf.transform(test_data['text'])\n",
        "y_test = test_data['label']"
      ]
    },
    {
      "cell_type": "markdown",
      "source": [
        "#Step 4: Train and Compare Classifiers\n",
        "We will train multiple classifiers and compare their performance."
      ],
      "metadata": {
        "id": "vyumglKDcMLB"
      }
    },
    {
      "cell_type": "markdown",
      "source": [
        "#4.1 Logistic Regression\n",
        "Logistic Regression is a simple and effective model for text classification"
      ],
      "metadata": {
        "id": "tCQPrc_FcPvo"
      }
    },
    {
      "cell_type": "code",
      "execution_count": 12,
      "metadata": {
        "colab": {
          "base_uri": "https://localhost:8080/"
        },
        "id": "7vfB-pJvpTce",
        "outputId": "bce93509-d987-4c0f-aba8-a6ddd240df13"
      },
      "outputs": [
        {
          "output_type": "stream",
          "name": "stdout",
          "text": [
            "Logistic Regression Report:\n",
            "              precision    recall  f1-score   support\n",
            "\n",
            "       World       0.92      0.90      0.91      1900\n",
            "      Sports       0.95      0.98      0.96      1900\n",
            "    Business       0.87      0.87      0.87      1900\n",
            "    Sci/Tech       0.88      0.88      0.88      1900\n",
            "\n",
            "    accuracy                           0.90      7600\n",
            "   macro avg       0.90      0.90      0.90      7600\n",
            "weighted avg       0.90      0.90      0.90      7600\n",
            "\n"
          ]
        }
      ],
      "source": [
        "from sklearn.linear_model import LogisticRegression\n",
        "from sklearn.metrics import classification_report\n",
        "\n",
        "# Train Logistic Regression\n",
        "model_lr = LogisticRegression(max_iter=1000)\n",
        "model_lr.fit(X_train, y_train)\n",
        "\n",
        "# Evaluate on test data\n",
        "y_pred_lr = model_lr.predict(X_test)\n",
        "print(\"Logistic Regression Report:\")\n",
        "print(classification_report(y_test, y_pred_lr, target_names=['World', 'Sports', 'Business', 'Sci/Tech']))"
      ]
    },
    {
      "cell_type": "markdown",
      "source": [
        "#4.2 Decision Tree\n",
        "Decision Trees are interpretable but can overfit on text data."
      ],
      "metadata": {
        "id": "nut9GBeTdXBC"
      }
    },
    {
      "cell_type": "code",
      "execution_count": 13,
      "metadata": {
        "colab": {
          "base_uri": "https://localhost:8080/"
        },
        "id": "HQHDMfqYrHqs",
        "outputId": "27f80fae-710e-40ef-e9c8-b67b78fdeb74"
      },
      "outputs": [
        {
          "output_type": "stream",
          "name": "stdout",
          "text": [
            "Decision Tree Report:\n",
            "              precision    recall  f1-score   support\n",
            "\n",
            "       World       0.87      0.38      0.53      1900\n",
            "      Sports       0.93      0.27      0.42      1900\n",
            "    Business       0.86      0.19      0.31      1900\n",
            "    Sci/Tech       0.32      0.96      0.48      1900\n",
            "\n",
            "    accuracy                           0.45      7600\n",
            "   macro avg       0.75      0.45      0.43      7600\n",
            "weighted avg       0.75      0.45      0.43      7600\n",
            "\n"
          ]
        }
      ],
      "source": [
        "from sklearn.tree import DecisionTreeClassifier\n",
        "\n",
        "# Train Decision Tree\n",
        "model_dt = DecisionTreeClassifier(max_depth=10)\n",
        "model_dt.fit(X_train, y_train)\n",
        "\n",
        "# Evaluate on test data\n",
        "y_pred_dt = model_dt.predict(X_test)\n",
        "print(\"Decision Tree Report:\")\n",
        "print(classification_report(y_test, y_pred_dt, target_names=['World', 'Sports', 'Business', 'Sci/Tech']))"
      ]
    },
    {
      "cell_type": "markdown",
      "source": [
        "#4.3 K-Nearest Neighbors (KNN)\n",
        "KNN is simple but computationally expensive for large datasets."
      ],
      "metadata": {
        "id": "VCNf20widj0k"
      }
    },
    {
      "cell_type": "code",
      "execution_count": 14,
      "metadata": {
        "colab": {
          "base_uri": "https://localhost:8080/"
        },
        "id": "DEogvPfGrqk6",
        "outputId": "873d1c3d-06d5-4193-96ea-4356c6cf0633"
      },
      "outputs": [
        {
          "output_type": "stream",
          "name": "stdout",
          "text": [
            "KNN Report:\n",
            "              precision    recall  f1-score   support\n",
            "\n",
            "       World       0.86      0.90      0.88      1900\n",
            "      Sports       0.92      0.94      0.93      1900\n",
            "    Business       0.87      0.84      0.85      1900\n",
            "    Sci/Tech       0.87      0.84      0.86      1900\n",
            "\n",
            "    accuracy                           0.88      7600\n",
            "   macro avg       0.88      0.88      0.88      7600\n",
            "weighted avg       0.88      0.88      0.88      7600\n",
            "\n"
          ]
        }
      ],
      "source": [
        "from sklearn.neighbors import KNeighborsClassifier\n",
        "\n",
        "# Train KNN\n",
        "model_knn = KNeighborsClassifier(n_neighbors=3)\n",
        "model_knn.fit(X_train, y_train)\n",
        "\n",
        "# Evaluate on test data\n",
        "y_pred_knn = model_knn.predict(X_test)\n",
        "print(\"KNN Report:\")\n",
        "print(classification_report(y_test, y_pred_knn, target_names=['World', 'Sports', 'Business', 'Sci/Tech']))"
      ]
    },
    {
      "cell_type": "markdown",
      "source": [
        "#4.4 AdaBoost\n",
        "AdaBoost is an ensemble method that combines weak classifiers."
      ],
      "metadata": {
        "id": "nzaJqFl3dvC_"
      }
    },
    {
      "cell_type": "code",
      "execution_count": 15,
      "metadata": {
        "colab": {
          "base_uri": "https://localhost:8080/"
        },
        "id": "ND3TgLDysGMC",
        "outputId": "7b0b85f9-3cf6-46a2-8c08-8d85ba84a185"
      },
      "outputs": [
        {
          "output_type": "stream",
          "name": "stdout",
          "text": [
            "AdaBoost Report:\n",
            "              precision    recall  f1-score   support\n",
            "\n",
            "       World       0.88      0.37      0.52      1900\n",
            "      Sports       0.85      0.57      0.68      1900\n",
            "    Business       0.56      0.48      0.52      1900\n",
            "    Sci/Tech       0.37      0.76      0.50      1900\n",
            "\n",
            "    accuracy                           0.55      7600\n",
            "   macro avg       0.67      0.55      0.56      7600\n",
            "weighted avg       0.67      0.55      0.56      7600\n",
            "\n"
          ]
        }
      ],
      "source": [
        "from sklearn.ensemble import AdaBoostClassifier\n",
        "\n",
        "# Train AdaBoost\n",
        "model_ab = AdaBoostClassifier()\n",
        "model_ab.fit(X_train, y_train)\n",
        "\n",
        "# Evaluate on test data\n",
        "y_pred_ab = model_ab.predict(X_test)\n",
        "print(\"AdaBoost Report:\")\n",
        "print(classification_report(y_test, y_pred_ab, target_names=['World', 'Sports', 'Business', 'Sci/Tech']))"
      ]
    },
    {
      "cell_type": "markdown",
      "source": [
        "#Step 6: Visualize Results\n",
        "Visualize the confusion matrix for the best model (Logistic Regression)\n"
      ],
      "metadata": {
        "id": "TfJAiIoRgUzN"
      }
    },
    {
      "cell_type": "markdown",
      "source": [
        "#Step 5: Compare Models\n",
        "# Insights:\n",
        "\n",
        "Logistic Regression performs the best due to its ability to handle high-dimensional text data.\n",
        "\n",
        "Decision Trees and KNN struggle with overfitting and computational complexity."
      ],
      "metadata": {
        "id": "njwCRvs5d7fF"
      }
    },
    {
      "cell_type": "code",
      "source": [
        "from sklearn.metrics import confusion_matrix\n",
        "import seaborn as sns\n",
        "\n",
        "# Confusion matrix for Logistic Regression\n",
        "cm = confusion_matrix(y_test, y_pred_lr)\n",
        "sns.heatmap(cm, annot=True, fmt='d', cmap='Blues',\n",
        "            xticklabels=['World', 'Sports', 'Business', 'Sci/Tech'],\n",
        "            yticklabels=['World', 'Sports', 'Business', 'Sci/Tech'])\n",
        "plt.title(\"Confusion Matrix (Logistic Regression)\")\n",
        "plt.xlabel(\"Predicted\")\n",
        "plt.ylabel(\"Actual\")\n",
        "plt.show()"
      ],
      "metadata": {
        "colab": {
          "base_uri": "https://localhost:8080/",
          "height": 472
        },
        "id": "oqYJrcyhgUTi",
        "outputId": "8c015450-feab-49fc-de17-60caaaae4889"
      },
      "execution_count": 16,
      "outputs": [
        {
          "output_type": "display_data",
          "data": {
            "text/plain": [
              "<Figure size 640x480 with 2 Axes>"
            ],
            "image/png": "[encoded data removed]"
          },
          "metadata": {}
        }
      ]
    },
    {
      "cell_type": "markdown",
      "source": [
        "\n",
        "\n",
        "\n",
        "\n",
        "\n",
        "\n",
        "\n",
        "*   TF-IDF is a critical step for converting text into meaningful numerical features.\n",
        "*   Decision Trees and KNN are less effective due to overfitting and high dimensionality.\n",
        "*   Logistic Regression achieves the highest accuracy (~88%) and generalizes well to unseen data.\n",
        "\n",
        "\n",
        "\n",
        "\n",
        "\n"
      ],
      "metadata": {
        "id": "2tR5Xh3IhMHe"
      }
    }
  ],
  "metadata": {
    "colab": {
      "provenance": []
    },
    "kernelspec": {
      "display_name": "Python 3",
      "name": "python3"
    },
    "language_info": {
      "name": "python"
    }
  },
  "nbformat": 4,
  "nbformat_minor": 0
}